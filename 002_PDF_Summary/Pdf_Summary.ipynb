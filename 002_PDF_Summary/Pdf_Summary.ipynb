{
 "cells": [
  {
   "cell_type": "code",
   "execution_count": 1,
   "metadata": {},
   "outputs": [],
   "source": [
    "# Import Packages\n",
    "import openai\n",
    "import os\n",
    "import PyPDF2"
   ]
  },
  {
   "cell_type": "code",
   "execution_count": 2,
   "metadata": {},
   "outputs": [],
   "source": [
    "# Assigning API key to the variable openai.api_key\n",
    "openai.api_key = os.getenv('OPENAI_API_kEY')"
   ]
  },
  {
   "cell_type": "code",
   "execution_count": 3,
   "metadata": {},
   "outputs": [],
   "source": [
    "# defining helper_function to get the response from ChatGPT\n",
    "def get_completion(prompt, model=\"gpt-3.5-turbo\"):\n",
    "    messages = [{\"role\": \"user\", \"content\": prompt}]\n",
    "    response = openai.ChatCompletion.create(\n",
    "        model=model,\n",
    "        messages=messages,\n",
    "        temperature=0,\n",
    "    )\n",
    "    return response.choices[0].message[\"content\"]"
   ]
  },
  {
   "cell_type": "code",
   "execution_count": 4,
   "metadata": {},
   "outputs": [],
   "source": [
    "# Defining the readPdfFile function to read the pdf file and output as text\n",
    "def readPdfFile(filePath):\n",
    "    with open(filePath, 'rb') as file:\n",
    "        page_reader = PyPDF2.PdfReader(file)\n",
    "        num_pages = len(page_reader.pages)\n",
    "        ans = \"\"\n",
    "        for page_num in range(num_pages):\n",
    "            page = page_reader.pages[page_num]\n",
    "            text = page.extract_text()\n",
    "            ans += text\n",
    "    return ans"
   ]
  },
  {
   "cell_type": "code",
   "execution_count": 5,
   "metadata": {},
   "outputs": [
    {
     "name": "stdout",
     "output_type": "stream",
     "text": [
      "TheTransformative Power ofEducation: Unlocking Opportunities\n",
      "andEmpowering Communities\n",
      "Education stands as the cornerstone of progress, serving as a catalyst for individual \n",
      "growth and societal advancement. Its importance transcends the confines of classrooms, \n",
      "reaching into every aspect of human life, from personal development to economic \n",
      "prosperity and social cohesion. In this article, we delve into the multifaceted significance \n",
      "of education, exploring its transformative power and its far -reaching implications for \n",
      "individuals and communities alike.  \n",
      "Personal  Development:  \n",
      "At its core, education nurtures the minds and hearts of individuals, fostering intellectual \n",
      "curiosity, critical thinking, and creativity. Through education, individuals gain not only \n",
      "knowledge but also the skills and competencies necessary to navigate life 's complexities \n",
      "with confidence and resilience. Education empowers individuals to unlock their full \n",
      "potential, enabling them to pursue their passions, realize their aspirations, and lead \n",
      "fulfilling lives.  \n",
      "Economic  Prosperity:  \n",
      "Education serves as the engine of economic growth, driving innovation, productivity, \n",
      "and prosperity. It equips individuals with the skills and expertise demanded by a \n",
      "dynamic and evolving labor market, thereby enhancing their employability and earning \n",
      "potential. Moreover, education cultivates an entrepreneurial spirit, fostering the creation \n",
      "of new ventures and driving economic development at both the individual and societal \n",
      "levels.  \n",
      "Social  Cohesion:  \n",
      "Education fosters social cohesion by promoting understanding, tolerance, and empathy \n",
      "across diverse communities. It serves as a bridge between individuals of different \n",
      "backgrounds, fostering mutual respect and solidarity. Moreover, education empowers \n",
      "indiv iduals to challenge prejudice, discrimination, and inequality, thereby fostering a \n",
      "more inclusive and equitable society.  \n",
      "Global  Competitiveness:  \n",
      "In an increasingly interconnected world, education is essential for maintainin g \n",
      "competitiveness and relevance on the global stage. Nations with well -educated populations are better equipped to adapt to technological advancements, harness \n",
      "innovation, and address complex global challenges. By investing in education, countries \n",
      "can enhance their human capital, stimulate economic growth, and bolster their position \n",
      "in the global economy.  \n",
      "Lifelong  Learning:  \n",
      "Education is a lifelong journey that extends far beyond the confines of formal schooling. \n",
      "It encompasses continuous learning and skill development, ensuring that individuals \n",
      "remain adaptable and resilient in the face of change. Lifelong learning empowers \n",
      "individuals to stay abreast of new developments, pursue career advancement \n",
      "opportunities, and lead enriching lives filled with curiosity and discovery.  \n",
      "In conclusion, education stands as a beacon of hope and opportunity, offering the \n",
      "promise of a brighter future for individuals and societies alike. By investing in education, \n",
      "we not only unlock the potential of individuals but also pave the way for collect ive \n",
      "progress and prosperity. Let us recognize the transformative power of education and \n",
      "strive to ensure that it remains accessible to all, thereby building a more inclusive, \n",
      "equitable, and sustainable world for future generations.  \n",
      " \n"
     ]
    }
   ],
   "source": [
    "# To read the pdf file and convert to the text format\n",
    "text = readPdfFile(\".\\Education.pdf\")\n",
    "print(text)"
   ]
  },
  {
   "cell_type": "code",
   "execution_count": 6,
   "metadata": {},
   "outputs": [],
   "source": [
    "# Prompt for generating for the given text\n",
    "prompt = f\"\"\"Your task is to generate summary for the given text\\\n",
    "    delimited by triple backticks. \\\n",
    "        ```{text}``` \n",
    "        \"\"\""
   ]
  },
  {
   "cell_type": "code",
   "execution_count": 7,
   "metadata": {},
   "outputs": [],
   "source": [
    "response = get_completion(prompt)\n"
   ]
  },
  {
   "cell_type": "code",
   "execution_count": 8,
   "metadata": {},
   "outputs": [
    {
     "name": "stdout",
     "output_type": "stream",
     "text": [
      "Education is a powerful tool that serves as a catalyst for individual growth and societal advancement. It nurtures intellectual curiosity, critical thinking, and creativity, empowering individuals to unlock their full potential and lead fulfilling lives. Education also drives economic prosperity by equipping individuals with the skills needed for a dynamic labor market and fostering entrepreneurship. Additionally, education promotes social cohesion by fostering understanding and empathy across diverse communities, challenging prejudice and inequality. In a globalized world, education is essential for maintaining competitiveness and addressing complex challenges. Lifelong learning ensures individuals remain adaptable and resilient in the face of change. Overall, investing in education offers hope and opportunity for a brighter future, leading to collective progress and prosperity for all.\n"
     ]
    }
   ],
   "source": [
    "print(response)"
   ]
  }
 ],
 "metadata": {
  "kernelspec": {
   "display_name": "Python 3",
   "language": "python",
   "name": "python3"
  },
  "language_info": {
   "codemirror_mode": {
    "name": "ipython",
    "version": 3
   },
   "file_extension": ".py",
   "mimetype": "text/x-python",
   "name": "python",
   "nbconvert_exporter": "python",
   "pygments_lexer": "ipython3",
   "version": "3.11.8"
  }
 },
 "nbformat": 4,
 "nbformat_minor": 2
}
